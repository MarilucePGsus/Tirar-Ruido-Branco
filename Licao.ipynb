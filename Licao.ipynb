{
 "cells": [
  {
   "cell_type": "code",
   "execution_count": 2,
   "id": "c41da51e",
   "metadata": {},
   "outputs": [
    {
     "data": {
      "text/plain": [
       "True"
      ]
     },
     "execution_count": 2,
     "metadata": {},
     "output_type": "execute_result"
    }
   ],
   "source": [
    "#O código importa as bibliotecas necessárias: cv2 para o OpenCV e numpy para operações numéricas.\n",
    "import cv2\n",
    "import numpy as np\n",
    "# A função ruido(a, l, c, r) recebe uma imagem a, coordenadas de um ponto (l, c) e um raio r. \n",
    "# Essa função verifica se os pixels vizinhos ao ponto (l, c) estão preenchidos de acordo com um critério. \n",
    "# Ela retorna True se a maioria dos pixels vizinhos estiver vazia e False caso contrário.\n",
    "def ruido(a, l, c, r):\n",
    "    redor = np.zeros((2*r+1, 2*r+1), np.uint8)\n",
    "    cont = 0\n",
    "\n",
    "    for lr in range(-r, r+1):\n",
    "        for cr in range(-r, r+1):\n",
    "            if l+lr < 0 or l+lr > a.shape[0]-1 or c+cr < 0 or c+cr > a.shape[1]-1:\n",
    "                pass\n",
    "            else:\n",
    "                redor[lr+r, cr+r] = a[l+lr, c+cr]\n",
    "\n",
    "    for lr in range(redor.shape[0]):\n",
    "        for cr in range(redor.shape[1]):\n",
    "            if redor[lr, cr] == 0:\n",
    "                cont += 1\n",
    "\n",
    "    if cont > (redor.size*2/3):\n",
    "        return True\n",
    "    else:\n",
    "        return False\n",
    "# A imagem é carregada em escala de cinza utilizando o OpenCV\n",
    "a = cv2.imread('mickey.bmp', cv2.IMREAD_GRAYSCALE)\n",
    "# Define-se o raio r para a detecção de ruído. Neste caso, o valor é 2\n",
    "r = 2\n",
    "# O código percorre todos os pontos (l, c) na imagem, a partir do raio r até as dimensões da imagem. \n",
    "# Caso o pixel esteja preenchido com o valor 255 (branco), a função ruido()\n",
    "# é chamada para verificar se o pixel é considerado ruído. Se for, o pixel é alterado para o valor 0 (preto).\n",
    "for c in range(r, a.shape[1]):\n",
    "    for l in range(r, a.shape[0]):\n",
    "        if a[l, c] == 255:\n",
    "            if ruido(a, l, c, r):\n",
    "                a[l, c] = 0\n",
    "# A imagem resultante é salva em um arquivo chamado 'mickey_noiseless.png'\n",
    "cv2.imwrite('mickey_noiseless.png', a)\n"
   ]
  },
  {
   "cell_type": "code",
   "execution_count": null,
   "id": "1ff37d5d",
   "metadata": {},
   "outputs": [],
   "source": []
  }
 ],
 "metadata": {
  "kernelspec": {
   "display_name": "Python 3 (ipykernel)",
   "language": "python",
   "name": "python3"
  },
  "language_info": {
   "codemirror_mode": {
    "name": "ipython",
    "version": 3
   },
   "file_extension": ".py",
   "mimetype": "text/x-python",
   "name": "python",
   "nbconvert_exporter": "python",
   "pygments_lexer": "ipython3",
   "version": "3.9.13"
  }
 },
 "nbformat": 4,
 "nbformat_minor": 5
}
